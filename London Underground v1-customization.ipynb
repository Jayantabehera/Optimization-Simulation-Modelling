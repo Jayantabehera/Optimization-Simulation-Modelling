{
 "cells": [
  {
   "cell_type": "markdown",
   "metadata": {
    "toc": true
   },
   "source": [
    "<h1>Table of Contents<span class=\"tocSkip\"></span></h1>\n",
    "<div class=\"toc\"><ul class=\"toc-item\"><li><span><a href=\"#Load-Libraries\" data-toc-modified-id=\"Load-Libraries-1\"><span class=\"toc-item-num\">1&nbsp;&nbsp;</span>Load Libraries</a></span></li><li><span><a href=\"#Prepare-Data\" data-toc-modified-id=\"Prepare-Data-2\"><span class=\"toc-item-num\">2&nbsp;&nbsp;</span>Prepare Data</a></span></li><li><span><a href=\"#Define-Process\" data-toc-modified-id=\"Define-Process-3\"><span class=\"toc-item-num\">3&nbsp;&nbsp;</span>Define Process</a></span></li><li><span><a href=\"#System-Verification\" data-toc-modified-id=\"System-Verification-4\"><span class=\"toc-item-num\">4&nbsp;&nbsp;</span>System Verification</a></span></li><li><span><a href=\"#Integrate-Statistics\" data-toc-modified-id=\"Integrate-Statistics-5\"><span class=\"toc-item-num\">5&nbsp;&nbsp;</span>Integrate Statistics</a></span></li><li><span><a href=\"#System-Validation\" data-toc-modified-id=\"System-Validation-6\"><span class=\"toc-item-num\">6&nbsp;&nbsp;</span>System Validation</a></span></li><li><span><a href=\"#Simulation-Study\" data-toc-modified-id=\"Simulation-Study-7\"><span class=\"toc-item-num\">7&nbsp;&nbsp;</span>Simulation Study</a></span></li><li><span><a href=\"#References\" data-toc-modified-id=\"References-8\"><span class=\"toc-item-num\">8&nbsp;&nbsp;</span>References</a></span></li></ul></div>"
   ]
  },
  {
   "cell_type": "markdown",
   "metadata": {},
   "source": [
    "# Load Libraries"
   ]
  },
  {
   "cell_type": "code",
   "execution_count": 74,
   "metadata": {
    "ExecuteTime": {
     "end_time": "2020-04-02T12:19:33.161542Z",
     "start_time": "2020-04-02T12:19:32.146261Z"
    }
   },
   "outputs": [],
   "source": [
    "import pandas as pd\n",
    "import matplotlib as mpl\n",
    "import matplotlib.pyplot as plt\n",
    "import scipy.stats as stats\n",
    "import math\n",
    "import numpy as np\n",
    "\n",
    "import simpy\n",
    "import simpy.events as evt"
   ]
  },
  {
   "cell_type": "markdown",
   "metadata": {},
   "source": [
    "# Prepare Data"
   ]
  },
  {
   "cell_type": "code",
   "execution_count": 107,
   "metadata": {
    "ExecuteTime": {
     "end_time": "2020-04-02T12:19:33.172106Z",
     "start_time": "2020-04-02T12:19:33.164033Z"
    }
   },
   "outputs": [],
   "source": [
    "dt=pd.read_csv('LondonBirhimgam.csv')\n",
    "blocks =10"
   ]
  },
  {
   "cell_type": "code",
   "execution_count": 108,
   "metadata": {
    "ExecuteTime": {
     "end_time": "2020-04-02T12:19:33.191240Z",
     "start_time": "2020-04-02T12:19:33.174870Z"
    }
   },
   "outputs": [
    {
     "data": {
      "text/html": [
       "<div>\n",
       "<style scoped>\n",
       "    .dataframe tbody tr th:only-of-type {\n",
       "        vertical-align: middle;\n",
       "    }\n",
       "\n",
       "    .dataframe tbody tr th {\n",
       "        vertical-align: top;\n",
       "    }\n",
       "\n",
       "    .dataframe thead th {\n",
       "        text-align: right;\n",
       "    }\n",
       "</style>\n",
       "<table border=\"1\" class=\"dataframe\">\n",
       "  <thead>\n",
       "    <tr style=\"text-align: right;\">\n",
       "      <th></th>\n",
       "      <th>Line</th>\n",
       "      <th>Direction</th>\n",
       "      <th>From</th>\n",
       "      <th>To</th>\n",
       "      <th>Distance</th>\n",
       "      <th>Running Time</th>\n",
       "      <th>Peak Running Time</th>\n",
       "      <th>Off-Peak Running Time</th>\n",
       "      <th>Speed</th>\n",
       "    </tr>\n",
       "  </thead>\n",
       "  <tbody>\n",
       "    <tr>\n",
       "      <th>0</th>\n",
       "      <td>HS2</td>\n",
       "      <td>L2B</td>\n",
       "      <td>London Euston</td>\n",
       "      <td>London Old Oak Common</td>\n",
       "      <td>23.387097</td>\n",
       "      <td>5</td>\n",
       "      <td>5</td>\n",
       "      <td>5</td>\n",
       "      <td>4.677419</td>\n",
       "    </tr>\n",
       "    <tr>\n",
       "      <th>1</th>\n",
       "      <td>HS2</td>\n",
       "      <td>L2B</td>\n",
       "      <td>London Old Oak Common</td>\n",
       "      <td>Birmingham Interchange</td>\n",
       "      <td>145.000000</td>\n",
       "      <td>31</td>\n",
       "      <td>31</td>\n",
       "      <td>31</td>\n",
       "      <td>4.677419</td>\n",
       "    </tr>\n",
       "    <tr>\n",
       "      <th>2</th>\n",
       "      <td>HS2</td>\n",
       "      <td>L2B</td>\n",
       "      <td>Birmingham Interchange</td>\n",
       "      <td>Birmingham Curzon Street</td>\n",
       "      <td>42.096774</td>\n",
       "      <td>9</td>\n",
       "      <td>9</td>\n",
       "      <td>9</td>\n",
       "      <td>4.677419</td>\n",
       "    </tr>\n",
       "  </tbody>\n",
       "</table>\n",
       "</div>"
      ],
      "text/plain": [
       "  Line Direction                    From                        To  \\\n",
       "0  HS2       L2B           London Euston     London Old Oak Common   \n",
       "1  HS2       L2B   London Old Oak Common    Birmingham Interchange   \n",
       "2  HS2       L2B  Birmingham Interchange  Birmingham Curzon Street   \n",
       "\n",
       "     Distance  Running Time  Peak Running Time  Off-Peak Running Time  \\\n",
       "0   23.387097             5                  5                      5   \n",
       "1  145.000000            31                 31                     31   \n",
       "2   42.096774             9                  9                      9   \n",
       "\n",
       "      Speed  \n",
       "0  4.677419  \n",
       "1  4.677419  \n",
       "2  4.677419  "
      ]
     },
     "execution_count": 108,
     "metadata": {},
     "output_type": "execute_result"
    }
   ],
   "source": [
    "dt.head()"
   ]
  },
  {
   "cell_type": "markdown",
   "metadata": {},
   "source": [
    "Convert distances to meters"
   ]
  },
  {
   "cell_type": "code",
   "execution_count": 109,
   "metadata": {
    "ExecuteTime": {
     "end_time": "2020-04-02T12:19:33.198497Z",
     "start_time": "2020-04-02T12:19:33.193627Z"
    }
   },
   "outputs": [],
   "source": [
    "dt['Distance']=dt['Distance'].apply(lambda x: int(x*1000))"
   ]
  },
  {
   "cell_type": "markdown",
   "metadata": {},
   "source": [
    "Convert running times into seconds"
   ]
  },
  {
   "cell_type": "code",
   "execution_count": 110,
   "metadata": {
    "ExecuteTime": {
     "end_time": "2020-04-02T12:19:33.208908Z",
     "start_time": "2020-04-02T12:19:33.200973Z"
    }
   },
   "outputs": [],
   "source": [
    "dt['Running Time']=dt['Running Time'].apply(lambda x: int(x*60))\n",
    "dt['Peak Running Time']=dt['Peak Running Time'].apply(lambda x: int(x*60))\n",
    "dt['Off-Peak Running Time']=dt['Off-Peak Running Time'].apply(lambda x: int(x*60))"
   ]
  },
  {
   "cell_type": "code",
   "execution_count": 111,
   "metadata": {
    "ExecuteTime": {
     "end_time": "2020-04-02T12:19:33.223379Z",
     "start_time": "2020-04-02T12:19:33.211020Z"
    }
   },
   "outputs": [
    {
     "data": {
      "text/html": [
       "<div>\n",
       "<style scoped>\n",
       "    .dataframe tbody tr th:only-of-type {\n",
       "        vertical-align: middle;\n",
       "    }\n",
       "\n",
       "    .dataframe tbody tr th {\n",
       "        vertical-align: top;\n",
       "    }\n",
       "\n",
       "    .dataframe thead th {\n",
       "        text-align: right;\n",
       "    }\n",
       "</style>\n",
       "<table border=\"1\" class=\"dataframe\">\n",
       "  <thead>\n",
       "    <tr style=\"text-align: right;\">\n",
       "      <th></th>\n",
       "      <th>Line</th>\n",
       "      <th>Direction</th>\n",
       "      <th>From</th>\n",
       "      <th>To</th>\n",
       "      <th>Distance</th>\n",
       "      <th>Running Time</th>\n",
       "      <th>Peak Running Time</th>\n",
       "      <th>Off-Peak Running Time</th>\n",
       "      <th>Speed</th>\n",
       "    </tr>\n",
       "  </thead>\n",
       "  <tbody>\n",
       "    <tr>\n",
       "      <th>0</th>\n",
       "      <td>HS2</td>\n",
       "      <td>L2B</td>\n",
       "      <td>London Euston</td>\n",
       "      <td>London Old Oak Common</td>\n",
       "      <td>23387</td>\n",
       "      <td>300</td>\n",
       "      <td>300</td>\n",
       "      <td>300</td>\n",
       "      <td>4.677419</td>\n",
       "    </tr>\n",
       "    <tr>\n",
       "      <th>1</th>\n",
       "      <td>HS2</td>\n",
       "      <td>L2B</td>\n",
       "      <td>London Old Oak Common</td>\n",
       "      <td>Birmingham Interchange</td>\n",
       "      <td>145000</td>\n",
       "      <td>1860</td>\n",
       "      <td>1860</td>\n",
       "      <td>1860</td>\n",
       "      <td>4.677419</td>\n",
       "    </tr>\n",
       "    <tr>\n",
       "      <th>2</th>\n",
       "      <td>HS2</td>\n",
       "      <td>L2B</td>\n",
       "      <td>Birmingham Interchange</td>\n",
       "      <td>Birmingham Curzon Street</td>\n",
       "      <td>42096</td>\n",
       "      <td>540</td>\n",
       "      <td>540</td>\n",
       "      <td>540</td>\n",
       "      <td>4.677419</td>\n",
       "    </tr>\n",
       "  </tbody>\n",
       "</table>\n",
       "</div>"
      ],
      "text/plain": [
       "  Line Direction                    From                        To  Distance  \\\n",
       "0  HS2       L2B           London Euston     London Old Oak Common     23387   \n",
       "1  HS2       L2B   London Old Oak Common    Birmingham Interchange    145000   \n",
       "2  HS2       L2B  Birmingham Interchange  Birmingham Curzon Street     42096   \n",
       "\n",
       "   Running Time  Peak Running Time  Off-Peak Running Time     Speed  \n",
       "0           300                300                    300  4.677419  \n",
       "1          1860               1860                   1860  4.677419  \n",
       "2           540                540                    540  4.677419  "
      ]
     },
     "execution_count": 111,
     "metadata": {},
     "output_type": "execute_result"
    }
   ],
   "source": [
    "dt.head()"
   ]
  },
  {
   "cell_type": "markdown",
   "metadata": {},
   "source": [
    "Physics Calculation: time to travel a given distance based on acceleration and max velocity"
   ]
  },
  {
   "cell_type": "code",
   "execution_count": 112,
   "metadata": {
    "ExecuteTime": {
     "end_time": "2020-04-02T12:19:33.474163Z",
     "start_time": "2020-04-02T12:19:33.469394Z"
    }
   },
   "outputs": [],
   "source": [
    "def timeTo(A, maxV, d):\n",
    "    \"\"\"\n",
    "    A       constant acceleration, m/s²\n",
    "    maxV    maximumum velocity, m/s\n",
    "    d       distance, km\n",
    "    return  time in seconds required to travel\n",
    "    \"\"\"\n",
    "    tA = maxV/A          # time to accelerate to maxV\n",
    "    dA = A*tA*tA                # distance traveled during acceleration from 0 to maxV and back to 0\n",
    "    if (d < dA):                # train never reaches full speed?\n",
    "        return np.sqrt(4.0*d/A)        # time needed to accelerate to half-way point then decelerate to destination\n",
    "    else:\n",
    "        return 2*tA + (d-dA)/maxV   # time to accelerate to maxV plus travel at maxV plus decelerate to destination"
   ]
  },
  {
   "cell_type": "markdown",
   "metadata": {},
   "source": [
    "Given distance and travelling time we need to calculate the accelleration and maximum speed. As these parameters are specific to the rolling stock on each of the lines, we first extract information about the lines and then do the calculations line by line."
   ]
  },
  {
   "cell_type": "code",
   "execution_count": 113,
   "metadata": {
    "ExecuteTime": {
     "end_time": "2020-04-02T12:19:33.690054Z",
     "start_time": "2020-04-02T12:19:33.680744Z"
    }
   },
   "outputs": [
    {
     "data": {
      "text/html": [
       "<div>\n",
       "<style scoped>\n",
       "    .dataframe tbody tr th:only-of-type {\n",
       "        vertical-align: middle;\n",
       "    }\n",
       "\n",
       "    .dataframe tbody tr th {\n",
       "        vertical-align: top;\n",
       "    }\n",
       "\n",
       "    .dataframe thead th {\n",
       "        text-align: right;\n",
       "    }\n",
       "</style>\n",
       "<table border=\"1\" class=\"dataframe\">\n",
       "  <thead>\n",
       "    <tr style=\"text-align: right;\">\n",
       "      <th></th>\n",
       "    </tr>\n",
       "    <tr>\n",
       "      <th>Line</th>\n",
       "    </tr>\n",
       "  </thead>\n",
       "  <tbody>\n",
       "    <tr>\n",
       "      <th>HS2</th>\n",
       "    </tr>\n",
       "  </tbody>\n",
       "</table>\n",
       "</div>"
      ],
      "text/plain": [
       "Empty DataFrame\n",
       "Columns: []\n",
       "Index: [HS2]"
      ]
     },
     "execution_count": 113,
     "metadata": {},
     "output_type": "execute_result"
    }
   ],
   "source": [
    "lines=dt['Line'].unique()\n",
    "dl=pd.DataFrame(lines, columns=['Line'])\n",
    "dl=dl.set_index('Line')\n",
    "dl"
   ]
  },
  {
   "cell_type": "markdown",
   "metadata": {},
   "source": [
    "Calculate acceleration under the assumption that there is no effective max velocity, i.e. the train is  accelerating upto half-way point and then decelerating. For short distances this should be accurate, for long distances this should result in an underestimate."
   ]
  },
  {
   "cell_type": "code",
   "execution_count": 114,
   "metadata": {
    "ExecuteTime": {
     "end_time": "2020-04-02T12:19:34.138592Z",
     "start_time": "2020-04-02T12:19:34.098141Z"
    }
   },
   "outputs": [],
   "source": [
    "for i in range(len(dt)):\n",
    "    t1=dt.at[i,'Running Time']\n",
    "    t2=dt.at[i,'Peak Running Time']\n",
    "    t3=dt.at[i,'Off-Peak Running Time']\n",
    "    dt.at[i, 't']=min(t1, t2, t3)\n",
    "                           \n",
    "dt['a']=4*dt['Distance']/dt['t']**2"
   ]
  },
  {
   "cell_type": "code",
   "execution_count": 115,
   "metadata": {
    "ExecuteTime": {
     "end_time": "2020-04-02T12:19:34.164609Z",
     "start_time": "2020-04-02T12:19:34.141132Z"
    },
    "scrolled": true
   },
   "outputs": [
    {
     "data": {
      "text/html": [
       "<div>\n",
       "<style scoped>\n",
       "    .dataframe tbody tr th:only-of-type {\n",
       "        vertical-align: middle;\n",
       "    }\n",
       "\n",
       "    .dataframe tbody tr th {\n",
       "        vertical-align: top;\n",
       "    }\n",
       "\n",
       "    .dataframe thead th {\n",
       "        text-align: right;\n",
       "    }\n",
       "</style>\n",
       "<table border=\"1\" class=\"dataframe\">\n",
       "  <thead>\n",
       "    <tr style=\"text-align: right;\">\n",
       "      <th></th>\n",
       "      <th>max a</th>\n",
       "    </tr>\n",
       "    <tr>\n",
       "      <th>Line</th>\n",
       "      <th></th>\n",
       "    </tr>\n",
       "  </thead>\n",
       "  <tbody>\n",
       "    <tr>\n",
       "      <th>HS2</th>\n",
       "      <td>1.039422</td>\n",
       "    </tr>\n",
       "  </tbody>\n",
       "</table>\n",
       "</div>"
      ],
      "text/plain": [
       "         max a\n",
       "Line          \n",
       "HS2   1.039422"
      ]
     },
     "execution_count": 115,
     "metadata": {},
     "output_type": "execute_result"
    }
   ],
   "source": [
    "for l in lines:\n",
    "    dl.at[l, 'max a']=dt[dt['Line']==l]['a'].max()\n",
    "dl"
   ]
  },
  {
   "cell_type": "markdown",
   "metadata": {},
   "source": [
    "Solve $t=\\frac{v_{max}}{a}+\\frac{d}{v_{max}}$ for $v_{max}$ means solving $v_{max}^2-atv_{max}+ad=0$ which results in $v_{max}=\\frac{at}{2} - \\sqrt{\\frac{a^2t^2}{4}-ad}$. \n",
    "\n",
    "The condition $\\frac{a^2t^2}{4}-ad<0$ corresponds to the situation that the train never reaches on this seqment its maximum speed, in which case we revert to $v_{max}=\\frac{at}{2}$."
   ]
  },
  {
   "cell_type": "code",
   "execution_count": 116,
   "metadata": {
    "ExecuteTime": {
     "end_time": "2020-04-02T12:19:34.527163Z",
     "start_time": "2020-04-02T12:19:34.476641Z"
    }
   },
   "outputs": [],
   "source": [
    "dt['v']=None\n",
    "for i in range(len(dt)):\n",
    "    t=dt.at[i,'t']\n",
    "    d=dt.at[i,'Distance']\n",
    "    line=dt.at[i,'Line']\n",
    "    a=dl.at[line, 'max a']\n",
    "    q=t**2*a**2/4-a*d\n",
    "    if q<0:\n",
    "        # corresponds to the case that the train never reaches v_max\n",
    "        # it has to start decelerate half way through\n",
    "        q=0\n",
    "    dt.at[i, 'v']=t*a/2-np.sqrt(q)"
   ]
  },
  {
   "cell_type": "code",
   "execution_count": 117,
   "metadata": {
    "ExecuteTime": {
     "end_time": "2020-04-02T12:19:34.543595Z",
     "start_time": "2020-04-02T12:19:34.529373Z"
    },
    "scrolled": true
   },
   "outputs": [
    {
     "data": {
      "text/html": [
       "<div>\n",
       "<style scoped>\n",
       "    .dataframe tbody tr th:only-of-type {\n",
       "        vertical-align: middle;\n",
       "    }\n",
       "\n",
       "    .dataframe tbody tr th {\n",
       "        vertical-align: top;\n",
       "    }\n",
       "\n",
       "    .dataframe thead th {\n",
       "        text-align: right;\n",
       "    }\n",
       "</style>\n",
       "<table border=\"1\" class=\"dataframe\">\n",
       "  <thead>\n",
       "    <tr style=\"text-align: right;\">\n",
       "      <th></th>\n",
       "      <th>Line</th>\n",
       "      <th>Direction</th>\n",
       "      <th>From</th>\n",
       "      <th>To</th>\n",
       "      <th>Distance</th>\n",
       "      <th>Running Time</th>\n",
       "      <th>Peak Running Time</th>\n",
       "      <th>Off-Peak Running Time</th>\n",
       "      <th>Speed</th>\n",
       "      <th>t</th>\n",
       "      <th>a</th>\n",
       "      <th>v</th>\n",
       "    </tr>\n",
       "  </thead>\n",
       "  <tbody>\n",
       "    <tr>\n",
       "      <th>0</th>\n",
       "      <td>HS2</td>\n",
       "      <td>L2B</td>\n",
       "      <td>London Euston</td>\n",
       "      <td>London Old Oak Common</td>\n",
       "      <td>23387</td>\n",
       "      <td>300</td>\n",
       "      <td>300</td>\n",
       "      <td>300</td>\n",
       "      <td>4.677419</td>\n",
       "      <td>300.0</td>\n",
       "      <td>1.039422</td>\n",
       "      <td>155.913</td>\n",
       "    </tr>\n",
       "    <tr>\n",
       "      <th>1</th>\n",
       "      <td>HS2</td>\n",
       "      <td>L2B</td>\n",
       "      <td>London Old Oak Common</td>\n",
       "      <td>Birmingham Interchange</td>\n",
       "      <td>145000</td>\n",
       "      <td>1860</td>\n",
       "      <td>1860</td>\n",
       "      <td>1860</td>\n",
       "      <td>4.677419</td>\n",
       "      <td>1860.0</td>\n",
       "      <td>0.167649</td>\n",
       "      <td>81.3828</td>\n",
       "    </tr>\n",
       "    <tr>\n",
       "      <th>2</th>\n",
       "      <td>HS2</td>\n",
       "      <td>L2B</td>\n",
       "      <td>Birmingham Interchange</td>\n",
       "      <td>Birmingham Curzon Street</td>\n",
       "      <td>42096</td>\n",
       "      <td>540</td>\n",
       "      <td>540</td>\n",
       "      <td>540</td>\n",
       "      <td>4.677419</td>\n",
       "      <td>540.0</td>\n",
       "      <td>0.577449</td>\n",
       "      <td>93.5463</td>\n",
       "    </tr>\n",
       "  </tbody>\n",
       "</table>\n",
       "</div>"
      ],
      "text/plain": [
       "  Line Direction                    From                        To  Distance  \\\n",
       "0  HS2       L2B           London Euston     London Old Oak Common     23387   \n",
       "1  HS2       L2B   London Old Oak Common    Birmingham Interchange    145000   \n",
       "2  HS2       L2B  Birmingham Interchange  Birmingham Curzon Street     42096   \n",
       "\n",
       "   Running Time  Peak Running Time  Off-Peak Running Time     Speed       t  \\\n",
       "0           300                300                    300  4.677419   300.0   \n",
       "1          1860               1860                   1860  4.677419  1860.0   \n",
       "2           540                540                    540  4.677419   540.0   \n",
       "\n",
       "          a        v  \n",
       "0  1.039422  155.913  \n",
       "1  0.167649  81.3828  \n",
       "2  0.577449  93.5463  "
      ]
     },
     "execution_count": 117,
     "metadata": {},
     "output_type": "execute_result"
    }
   ],
   "source": [
    "dt.head()"
   ]
  },
  {
   "cell_type": "code",
   "execution_count": 118,
   "metadata": {
    "ExecuteTime": {
     "end_time": "2020-04-02T12:19:34.570764Z",
     "start_time": "2020-04-02T12:19:34.546239Z"
    },
    "scrolled": true
   },
   "outputs": [
    {
     "data": {
      "text/html": [
       "<div>\n",
       "<style scoped>\n",
       "    .dataframe tbody tr th:only-of-type {\n",
       "        vertical-align: middle;\n",
       "    }\n",
       "\n",
       "    .dataframe tbody tr th {\n",
       "        vertical-align: top;\n",
       "    }\n",
       "\n",
       "    .dataframe thead th {\n",
       "        text-align: right;\n",
       "    }\n",
       "</style>\n",
       "<table border=\"1\" class=\"dataframe\">\n",
       "  <thead>\n",
       "    <tr style=\"text-align: right;\">\n",
       "      <th></th>\n",
       "      <th>max a</th>\n",
       "      <th>max v</th>\n",
       "    </tr>\n",
       "    <tr>\n",
       "      <th>Line</th>\n",
       "      <th></th>\n",
       "      <th></th>\n",
       "    </tr>\n",
       "  </thead>\n",
       "  <tbody>\n",
       "    <tr>\n",
       "      <th>HS2</th>\n",
       "      <td>1.039422</td>\n",
       "      <td>155.913333</td>\n",
       "    </tr>\n",
       "  </tbody>\n",
       "</table>\n",
       "</div>"
      ],
      "text/plain": [
       "         max a       max v\n",
       "Line                      \n",
       "HS2   1.039422  155.913333"
      ]
     },
     "execution_count": 118,
     "metadata": {},
     "output_type": "execute_result"
    }
   ],
   "source": [
    "for l in lines:\n",
    "    dl.at[l, 'max v']=dt[dt['Line']==l]['v'].max()\n",
    "dl"
   ]
  },
  {
   "cell_type": "code",
   "execution_count": 119,
   "metadata": {
    "ExecuteTime": {
     "end_time": "2020-04-02T12:19:34.647667Z",
     "start_time": "2020-04-02T12:19:34.586441Z"
    }
   },
   "outputs": [],
   "source": [
    "for i in range(len(dt)):\n",
    "    l=dt.iat[i, 0]\n",
    "    a=dl.at[l, 'max a']\n",
    "    v=dl.at[l, 'max v']\n",
    "    dt.at[i, 'Drive Time']=int(timeTo(a, v, dt.at[i, 'Distance']))"
   ]
  },
  {
   "cell_type": "code",
   "execution_count": 120,
   "metadata": {
    "ExecuteTime": {
     "end_time": "2020-04-02T12:19:34.664327Z",
     "start_time": "2020-04-02T12:19:34.649695Z"
    }
   },
   "outputs": [
    {
     "data": {
      "text/html": [
       "<div>\n",
       "<style scoped>\n",
       "    .dataframe tbody tr th:only-of-type {\n",
       "        vertical-align: middle;\n",
       "    }\n",
       "\n",
       "    .dataframe tbody tr th {\n",
       "        vertical-align: top;\n",
       "    }\n",
       "\n",
       "    .dataframe thead th {\n",
       "        text-align: right;\n",
       "    }\n",
       "</style>\n",
       "<table border=\"1\" class=\"dataframe\">\n",
       "  <thead>\n",
       "    <tr style=\"text-align: right;\">\n",
       "      <th></th>\n",
       "      <th>Line</th>\n",
       "      <th>Direction</th>\n",
       "      <th>From</th>\n",
       "      <th>To</th>\n",
       "      <th>Distance</th>\n",
       "      <th>Running Time</th>\n",
       "      <th>Peak Running Time</th>\n",
       "      <th>Off-Peak Running Time</th>\n",
       "      <th>Speed</th>\n",
       "      <th>t</th>\n",
       "      <th>a</th>\n",
       "      <th>v</th>\n",
       "      <th>Drive Time</th>\n",
       "    </tr>\n",
       "  </thead>\n",
       "  <tbody>\n",
       "    <tr>\n",
       "      <th>0</th>\n",
       "      <td>HS2</td>\n",
       "      <td>L2B</td>\n",
       "      <td>London Euston</td>\n",
       "      <td>London Old Oak Common</td>\n",
       "      <td>23387</td>\n",
       "      <td>300</td>\n",
       "      <td>300</td>\n",
       "      <td>300</td>\n",
       "      <td>4.677419</td>\n",
       "      <td>300.0</td>\n",
       "      <td>1.039422</td>\n",
       "      <td>155.913</td>\n",
       "      <td>300.0</td>\n",
       "    </tr>\n",
       "    <tr>\n",
       "      <th>1</th>\n",
       "      <td>HS2</td>\n",
       "      <td>L2B</td>\n",
       "      <td>London Old Oak Common</td>\n",
       "      <td>Birmingham Interchange</td>\n",
       "      <td>145000</td>\n",
       "      <td>1860</td>\n",
       "      <td>1860</td>\n",
       "      <td>1860</td>\n",
       "      <td>4.677419</td>\n",
       "      <td>1860.0</td>\n",
       "      <td>0.167649</td>\n",
       "      <td>81.3828</td>\n",
       "      <td>1080.0</td>\n",
       "    </tr>\n",
       "    <tr>\n",
       "      <th>2</th>\n",
       "      <td>HS2</td>\n",
       "      <td>L2B</td>\n",
       "      <td>Birmingham Interchange</td>\n",
       "      <td>Birmingham Curzon Street</td>\n",
       "      <td>42096</td>\n",
       "      <td>540</td>\n",
       "      <td>540</td>\n",
       "      <td>540</td>\n",
       "      <td>4.677419</td>\n",
       "      <td>540.0</td>\n",
       "      <td>0.577449</td>\n",
       "      <td>93.5463</td>\n",
       "      <td>419.0</td>\n",
       "    </tr>\n",
       "  </tbody>\n",
       "</table>\n",
       "</div>"
      ],
      "text/plain": [
       "  Line Direction                    From                        To  Distance  \\\n",
       "0  HS2       L2B           London Euston     London Old Oak Common     23387   \n",
       "1  HS2       L2B   London Old Oak Common    Birmingham Interchange    145000   \n",
       "2  HS2       L2B  Birmingham Interchange  Birmingham Curzon Street     42096   \n",
       "\n",
       "   Running Time  Peak Running Time  Off-Peak Running Time     Speed       t  \\\n",
       "0           300                300                    300  4.677419   300.0   \n",
       "1          1860               1860                   1860  4.677419  1860.0   \n",
       "2           540                540                    540  4.677419   540.0   \n",
       "\n",
       "          a        v  Drive Time  \n",
       "0  1.039422  155.913       300.0  \n",
       "1  0.167649  81.3828      1080.0  \n",
       "2  0.577449  93.5463       419.0  "
      ]
     },
     "execution_count": 120,
     "metadata": {},
     "output_type": "execute_result"
    }
   ],
   "source": [
    "dt.head()"
   ]
  },
  {
   "cell_type": "code",
   "execution_count": 121,
   "metadata": {
    "ExecuteTime": {
     "end_time": "2020-04-02T12:19:34.670131Z",
     "start_time": "2020-04-02T12:19:34.666296Z"
    }
   },
   "outputs": [],
   "source": [
    "dt['Peak Dwell Time']=dt['Peak Running Time']-dt['Drive Time']"
   ]
  },
  {
   "cell_type": "code",
   "execution_count": 122,
   "metadata": {
    "ExecuteTime": {
     "end_time": "2020-04-02T12:19:34.677991Z",
     "start_time": "2020-04-02T12:19:34.674089Z"
    }
   },
   "outputs": [],
   "source": [
    "dt['Off-Peak Dwell Time']=dt['Off-Peak Running Time']-dt['Drive Time']"
   ]
  },
  {
   "cell_type": "code",
   "execution_count": 123,
   "metadata": {
    "ExecuteTime": {
     "end_time": "2020-04-02T12:19:34.685845Z",
     "start_time": "2020-04-02T12:19:34.680682Z"
    }
   },
   "outputs": [],
   "source": [
    "dt=dt.drop(columns=['t', 'a', 'v', 'Running Time', 'Peak Running Time', 'Off-Peak Running Time'])"
   ]
  },
  {
   "cell_type": "code",
   "execution_count": 124,
   "metadata": {
    "ExecuteTime": {
     "end_time": "2020-04-02T12:19:34.700407Z",
     "start_time": "2020-04-02T12:19:34.687924Z"
    }
   },
   "outputs": [
    {
     "data": {
      "text/html": [
       "<div>\n",
       "<style scoped>\n",
       "    .dataframe tbody tr th:only-of-type {\n",
       "        vertical-align: middle;\n",
       "    }\n",
       "\n",
       "    .dataframe tbody tr th {\n",
       "        vertical-align: top;\n",
       "    }\n",
       "\n",
       "    .dataframe thead th {\n",
       "        text-align: right;\n",
       "    }\n",
       "</style>\n",
       "<table border=\"1\" class=\"dataframe\">\n",
       "  <thead>\n",
       "    <tr style=\"text-align: right;\">\n",
       "      <th></th>\n",
       "      <th>Line</th>\n",
       "      <th>Direction</th>\n",
       "      <th>From</th>\n",
       "      <th>To</th>\n",
       "      <th>Distance</th>\n",
       "      <th>Speed</th>\n",
       "      <th>Drive Time</th>\n",
       "      <th>Peak Dwell Time</th>\n",
       "      <th>Off-Peak Dwell Time</th>\n",
       "    </tr>\n",
       "  </thead>\n",
       "  <tbody>\n",
       "    <tr>\n",
       "      <th>0</th>\n",
       "      <td>HS2</td>\n",
       "      <td>L2B</td>\n",
       "      <td>London Euston</td>\n",
       "      <td>London Old Oak Common</td>\n",
       "      <td>23387</td>\n",
       "      <td>4.677419</td>\n",
       "      <td>300.0</td>\n",
       "      <td>0.0</td>\n",
       "      <td>0.0</td>\n",
       "    </tr>\n",
       "    <tr>\n",
       "      <th>1</th>\n",
       "      <td>HS2</td>\n",
       "      <td>L2B</td>\n",
       "      <td>London Old Oak Common</td>\n",
       "      <td>Birmingham Interchange</td>\n",
       "      <td>145000</td>\n",
       "      <td>4.677419</td>\n",
       "      <td>1080.0</td>\n",
       "      <td>780.0</td>\n",
       "      <td>780.0</td>\n",
       "    </tr>\n",
       "    <tr>\n",
       "      <th>2</th>\n",
       "      <td>HS2</td>\n",
       "      <td>L2B</td>\n",
       "      <td>Birmingham Interchange</td>\n",
       "      <td>Birmingham Curzon Street</td>\n",
       "      <td>42096</td>\n",
       "      <td>4.677419</td>\n",
       "      <td>419.0</td>\n",
       "      <td>121.0</td>\n",
       "      <td>121.0</td>\n",
       "    </tr>\n",
       "  </tbody>\n",
       "</table>\n",
       "</div>"
      ],
      "text/plain": [
       "  Line Direction                    From                        To  Distance  \\\n",
       "0  HS2       L2B           London Euston     London Old Oak Common     23387   \n",
       "1  HS2       L2B   London Old Oak Common    Birmingham Interchange    145000   \n",
       "2  HS2       L2B  Birmingham Interchange  Birmingham Curzon Street     42096   \n",
       "\n",
       "      Speed  Drive Time  Peak Dwell Time  Off-Peak Dwell Time  \n",
       "0  4.677419       300.0              0.0                  0.0  \n",
       "1  4.677419      1080.0            780.0                780.0  \n",
       "2  4.677419       419.0            121.0                121.0  "
      ]
     },
     "execution_count": 124,
     "metadata": {},
     "output_type": "execute_result"
    }
   ],
   "source": [
    "dt.head()"
   ]
  },
  {
   "cell_type": "code",
   "execution_count": 125,
   "metadata": {
    "ExecuteTime": {
     "end_time": "2020-04-02T12:19:34.707076Z",
     "start_time": "2020-04-02T12:19:34.702413Z"
    }
   },
   "outputs": [
    {
     "data": {
      "text/plain": [
       "300.3333333333333"
      ]
     },
     "execution_count": 125,
     "metadata": {},
     "output_type": "execute_result"
    }
   ],
   "source": [
    "dt['Peak Dwell Time'].mean()"
   ]
  },
  {
   "cell_type": "code",
   "execution_count": 126,
   "metadata": {
    "ExecuteTime": {
     "end_time": "2020-04-02T12:19:35.020127Z",
     "start_time": "2020-04-02T12:19:34.709248Z"
    }
   },
   "outputs": [
    {
     "data": {
      "text/plain": [
       "<matplotlib.axes._subplots.AxesSubplot at 0x131eeff8320>"
      ]
     },
     "execution_count": 126,
     "metadata": {},
     "output_type": "execute_result"
    },
    {
     "data": {
      "image/png": "[encoded data removed]",
      "text/plain": [
       "<Figure size 432x288 with 1 Axes>"
      ]
     },
     "metadata": {
      "needs_background": "light"
     },
     "output_type": "display_data"
    }
   ],
   "source": [
    "dt['Peak Dwell Time'].hist(bins=50)"
   ]
  },
  {
   "cell_type": "code",
   "execution_count": 127,
   "metadata": {
    "ExecuteTime": {
     "end_time": "2020-04-02T12:19:35.029233Z",
     "start_time": "2020-04-02T12:19:35.023272Z"
    }
   },
   "outputs": [
    {
     "data": {
      "text/plain": [
       "300.3333333333333"
      ]
     },
     "execution_count": 127,
     "metadata": {},
     "output_type": "execute_result"
    }
   ],
   "source": [
    "dt['Off-Peak Dwell Time'].mean()"
   ]
  },
  {
   "cell_type": "code",
   "execution_count": 128,
   "metadata": {
    "ExecuteTime": {
     "end_time": "2020-04-02T12:19:35.365808Z",
     "start_time": "2020-04-02T12:19:35.031720Z"
    },
    "scrolled": true
   },
   "outputs": [
    {
     "data": {
      "text/plain": [
       "<matplotlib.axes._subplots.AxesSubplot at 0x131eef616d8>"
      ]
     },
     "execution_count": 128,
     "metadata": {},
     "output_type": "execute_result"
    },
    {
     "data": {
      "image/png": "[encoded data removed]",
      "text/plain": [
       "<Figure size 432x288 with 1 Axes>"
      ]
     },
     "metadata": {
      "needs_background": "light"
     },
     "output_type": "display_data"
    }
   ],
   "source": [
    "dt['Off-Peak Dwell Time'].hist(bins=50)"
   ]
  },
  {
   "cell_type": "markdown",
   "metadata": {},
   "source": [
    "# Define Process"
   ]
  },
  {
   "cell_type": "code",
   "execution_count": 139,
   "metadata": {
    "ExecuteTime": {
     "end_time": "2020-04-02T12:19:35.381272Z",
     "start_time": "2020-04-02T12:19:35.369071Z"
    }
   },
   "outputs": [],
   "source": [
    "class Train(object):  \n",
    "    def __init__(self, i, line, direction, route, block_cap, maxPassengers=400):\n",
    "        self.name = line+'-'+direction+' [Train '+f\"{i:2d}\"+']'\n",
    "        self.line=line\n",
    "        self.direction=direction\n",
    "        self.route = route\n",
    "        self.p     = 0\n",
    "        self.maxP  = maxPassengers\n",
    "    \n",
    "    def process(self):\n",
    "        here = self.route[0]   # starting location\n",
    "        print(here)\n",
    "        yield env.timeout(0)\n",
    "        #when station is Old Oak, enter the blocks\n",
    "#         for k in range(len(block_cap)):\n",
    "#             with blocks[k].request() as req:\n",
    "#                 yield req\n",
    "        \n",
    "        for dest in self.route[1:]:\n",
    "            data=dt[dt['Line']==self.line][dt['Direction']==self.direction][dt['From']==here]\n",
    "            drivetime=data.iloc[0].at['Drive Time']\n",
    "            print(\"drivetime ;\",drivetime)\n",
    "            dwelltime=data.iloc[0].at['Off-Peak Dwell Time']\n",
    "            print(\"dwell time :\", dwelltime)\n",
    "            yield env.timeout(dwelltime)\n",
    "            print(f\"{now():s} {self.name:s} dep {here:s} for {dest:s}\")\n",
    "            here=dest\n",
    "            yield env.timeout(drivetime)\n",
    "            print(f\"{now():s} {self.name:s} arr {here:s}\")\n",
    "\n",
    "    def getOff(self, num):\n",
    "        if self.p >= num:\n",
    "            print(f\"{num:d} passengers got off\")\n",
    "            self.p -= num\n",
    "        else:\n",
    "            num = self.p\n",
    "            print(f\"train is empty - only {num:d} passengers got off\")\n",
    "            self.p = 0\n",
    "\n",
    "    def getOn(self, num):\n",
    "        if (self.maxP is None) or (self.p + num <= self.maxP):\n",
    "            print(f\"{num:d} passengers got on\")\n",
    "            self.p += num\n",
    "        else:\n",
    "            num = self.maxp - self.p\n",
    "            print(f\"train is full - only {num:d} passengers got on\")\n",
    "            self.p = self.maxp\n",
    "\n"
   ]
  },
  {
   "cell_type": "code",
   "execution_count": 140,
   "metadata": {
    "ExecuteTime": {
     "end_time": "2020-04-02T12:24:29.419028Z",
     "start_time": "2020-04-02T12:24:29.411718Z"
    }
   },
   "outputs": [
    {
     "name": "stdout",
     "output_type": "stream",
     "text": [
      "  Line Direction                    From                        To  Distance  \\\n",
      "0  HS2       L2B           London Euston     London Old Oak Common     23387   \n",
      "1  HS2       L2B   London Old Oak Common    Birmingham Interchange    145000   \n",
      "2  HS2       L2B  Birmingham Interchange  Birmingham Curzon Street     42096   \n",
      "\n",
      "      Speed  Drive Time  Peak Dwell Time  Off-Peak Dwell Time  \n",
      "0  4.677419       300.0              0.0                  0.0  \n",
      "1  4.677419      1080.0            780.0                780.0  \n",
      "2  4.677419       419.0            121.0                121.0  \n",
      "['London Euston', 'London Old Oak Common', 'Birmingham Interchange']\n",
      "<class 'list'>\n",
      "['London Euston', 'London Old Oak Common', 'Birmingham Interchange', 'Birmingham Curzon Street']\n",
      "21600\n",
      "21600\n",
      "London Euston\n",
      "drivetime ; 300.0\n",
      "dwell time : 0.0\n",
      "06:00:00 HS2-L2B [Train  0] dep London Euston for London Old Oak Common\n",
      "21900\n",
      "London Euston\n",
      "06:05:00 HS2-L2B [Train  0] arr London Old Oak Common\n",
      "drivetime ; 1080.0\n",
      "dwell time : 780.0\n",
      "drivetime ; 300.0\n",
      "dwell time : 0.0\n",
      "06:05:00 HS2-L2B [Train  1] dep London Euston for London Old Oak Common\n",
      "22200\n",
      "London Euston\n",
      "06:10:00 HS2-L2B [Train  1] arr London Old Oak Common\n",
      "drivetime ; 1080.0\n",
      "dwell time : 780.0\n",
      "drivetime ; 300.0\n",
      "dwell time : 0.0\n",
      "06:10:00 HS2-L2B [Train  2] dep London Euston for London Old Oak Common\n",
      "22500\n",
      "London Euston\n",
      "06:15:00 HS2-L2B [Train  2] arr London Old Oak Common\n",
      "drivetime ; 1080.0\n",
      "dwell time : 780.0\n",
      "drivetime ; 300.0\n",
      "dwell time : 0.0\n",
      "06:15:00 HS2-L2B [Train  3] dep London Euston for London Old Oak Common\n",
      "06:18:00 HS2-L2B [Train  0] dep London Old Oak Common for Birmingham Interchange\n",
      "22800\n",
      "London Euston\n",
      "06:20:00 HS2-L2B [Train  3] arr London Old Oak Common\n",
      "drivetime ; 1080.0\n",
      "dwell time : 780.0\n",
      "drivetime ; 300.0\n",
      "dwell time : 0.0\n",
      "06:20:00 HS2-L2B [Train  4] dep London Euston for London Old Oak Common\n",
      "06:23:00 HS2-L2B [Train  1] dep London Old Oak Common for Birmingham Interchange\n",
      "23100\n",
      "London Euston\n",
      "06:25:00 HS2-L2B [Train  4] arr London Old Oak Common\n",
      "drivetime ; 1080.0\n",
      "dwell time : 780.0\n",
      "drivetime ; 300.0\n",
      "dwell time : 0.0\n",
      "06:25:00 HS2-L2B [Train  5] dep London Euston for London Old Oak Common\n",
      "06:28:00 HS2-L2B [Train  2] dep London Old Oak Common for Birmingham Interchange\n",
      "23400\n",
      "London Euston\n",
      "06:30:00 HS2-L2B [Train  5] arr London Old Oak Common\n",
      "drivetime ; 1080.0\n",
      "dwell time : 780.0\n",
      "drivetime ; 300.0\n",
      "dwell time : 0.0\n",
      "06:30:00 HS2-L2B [Train  6] dep London Euston for London Old Oak Common\n",
      "06:33:00 HS2-L2B [Train  3] dep London Old Oak Common for Birmingham Interchange\n",
      "23700\n",
      "London Euston\n",
      "06:35:00 HS2-L2B [Train  6] arr London Old Oak Common\n",
      "drivetime ; 1080.0\n",
      "dwell time : 780.0\n",
      "drivetime ; 300.0\n",
      "dwell time : 0.0\n",
      "06:35:00 HS2-L2B [Train  7] dep London Euston for London Old Oak Common\n",
      "06:36:00 HS2-L2B [Train  0] arr Birmingham Interchange\n",
      "drivetime ; 419.0\n",
      "dwell time : 121.0\n",
      "06:38:00 HS2-L2B [Train  4] dep London Old Oak Common for Birmingham Interchange\n",
      "06:38:01 HS2-L2B [Train  0] dep Birmingham Interchange for Birmingham Curzon Street\n",
      "24000\n",
      "London Euston\n",
      "06:40:00 HS2-L2B [Train  7] arr London Old Oak Common\n",
      "drivetime ; 1080.0\n",
      "dwell time : 780.0\n",
      "drivetime ; 300.0\n",
      "dwell time : 0.0\n",
      "06:40:00 HS2-L2B [Train  8] dep London Euston for London Old Oak Common\n",
      "06:41:00 HS2-L2B [Train  1] arr Birmingham Interchange\n",
      "drivetime ; 419.0\n",
      "dwell time : 121.0\n",
      "06:43:00 HS2-L2B [Train  5] dep London Old Oak Common for Birmingham Interchange\n",
      "06:43:01 HS2-L2B [Train  1] dep Birmingham Interchange for Birmingham Curzon Street\n",
      "06:45:00 HS2-L2B [Train  0] arr Birmingham Curzon Street\n",
      "24300\n",
      "London Euston\n",
      "06:45:00 HS2-L2B [Train  8] arr London Old Oak Common\n",
      "drivetime ; 1080.0\n",
      "dwell time : 780.0\n",
      "drivetime ; 300.0\n",
      "dwell time : 0.0\n",
      "06:45:00 HS2-L2B [Train  9] dep London Euston for London Old Oak Common\n",
      "06:46:00 HS2-L2B [Train  2] arr Birmingham Interchange\n",
      "drivetime ; 419.0\n",
      "dwell time : 121.0\n",
      "06:48:00 HS2-L2B [Train  6] dep London Old Oak Common for Birmingham Interchange\n",
      "06:48:01 HS2-L2B [Train  2] dep Birmingham Interchange for Birmingham Curzon Street\n",
      "06:50:00 HS2-L2B [Train  1] arr Birmingham Curzon Street\n",
      "24600\n",
      "London Euston\n",
      "06:50:00 HS2-L2B [Train  9] arr London Old Oak Common\n",
      "drivetime ; 1080.0\n",
      "dwell time : 780.0\n",
      "drivetime ; 300.0\n",
      "dwell time : 0.0\n",
      "06:50:00 HS2-L2B [Train 10] dep London Euston for London Old Oak Common\n",
      "06:51:00 HS2-L2B [Train  3] arr Birmingham Interchange\n",
      "drivetime ; 419.0\n",
      "dwell time : 121.0\n",
      "06:53:00 HS2-L2B [Train  7] dep London Old Oak Common for Birmingham Interchange\n",
      "06:53:01 HS2-L2B [Train  3] dep Birmingham Interchange for Birmingham Curzon Street\n",
      "06:55:00 HS2-L2B [Train  2] arr Birmingham Curzon Street\n",
      "24900\n",
      "London Euston\n",
      "06:55:00 HS2-L2B [Train 10] arr London Old Oak Common\n",
      "drivetime ; 1080.0\n",
      "dwell time : 780.0\n",
      "drivetime ; 300.0\n",
      "dwell time : 0.0\n",
      "06:55:00 HS2-L2B [Train 11] dep London Euston for London Old Oak Common\n",
      "06:56:00 HS2-L2B [Train  4] arr Birmingham Interchange\n",
      "drivetime ; 419.0\n",
      "dwell time : 121.0\n",
      "06:58:00 HS2-L2B [Train  8] dep London Old Oak Common for Birmingham Interchange\n",
      "06:58:01 HS2-L2B [Train  4] dep Birmingham Interchange for Birmingham Curzon Street\n",
      "07:00:00 HS2-L2B [Train  3] arr Birmingham Curzon Street\n",
      "07:00:00 HS2-L2B [Train 11] arr London Old Oak Common\n",
      "drivetime ; 1080.0\n",
      "dwell time : 780.0\n",
      "07:01:00 HS2-L2B [Train  5] arr Birmingham Interchange\n",
      "drivetime ; 419.0\n",
      "dwell time : 121.0\n",
      "07:03:00 HS2-L2B [Train  9] dep London Old Oak Common for Birmingham Interchange\n",
      "07:03:01 HS2-L2B [Train  5] dep Birmingham Interchange for Birmingham Curzon Street\n",
      "07:05:00 HS2-L2B [Train  4] arr Birmingham Curzon Street\n",
      "07:06:00 HS2-L2B [Train  6] arr Birmingham Interchange\n",
      "drivetime ; 419.0\n",
      "dwell time : 121.0\n",
      "07:08:00 HS2-L2B [Train 10] dep London Old Oak Common for Birmingham Interchange\n",
      "07:08:01 HS2-L2B [Train  6] dep Birmingham Interchange for Birmingham Curzon Street\n",
      "07:10:00 HS2-L2B [Train  5] arr Birmingham Curzon Street\n",
      "07:11:00 HS2-L2B [Train  7] arr Birmingham Interchange\n",
      "drivetime ; 419.0\n",
      "dwell time : 121.0\n",
      "07:13:00 HS2-L2B [Train 11] dep London Old Oak Common for Birmingham Interchange\n",
      "07:13:01 HS2-L2B [Train  7] dep Birmingham Interchange for Birmingham Curzon Street\n",
      "07:15:00 HS2-L2B [Train  6] arr Birmingham Curzon Street\n",
      "07:16:00 HS2-L2B [Train  8] arr Birmingham Interchange\n",
      "drivetime ; 419.0\n",
      "dwell time : 121.0\n",
      "07:18:01 HS2-L2B [Train  8] dep Birmingham Interchange for Birmingham Curzon Street\n",
      "07:20:00 HS2-L2B [Train  7] arr Birmingham Curzon Street\n",
      "07:21:00 HS2-L2B [Train  9] arr Birmingham Interchange\n",
      "drivetime ; 419.0\n",
      "dwell time : 121.0\n",
      "07:23:01 HS2-L2B [Train  9] dep Birmingham Interchange for Birmingham Curzon Street\n",
      "07:25:00 HS2-L2B [Train  8] arr Birmingham Curzon Street\n",
      "07:26:00 HS2-L2B [Train 10] arr Birmingham Interchange\n",
      "drivetime ; 419.0\n",
      "dwell time : 121.0\n",
      "07:28:01 HS2-L2B [Train 10] dep Birmingham Interchange for Birmingham Curzon Street\n",
      "07:30:00 HS2-L2B [Train  9] arr Birmingham Curzon Street\n",
      "07:31:00 HS2-L2B [Train 11] arr Birmingham Interchange\n",
      "drivetime ; 419.0\n",
      "dwell time : 121.0\n",
      "07:33:01 HS2-L2B [Train 11] dep Birmingham Interchange for Birmingham Curzon Street\n",
      "07:35:00 HS2-L2B [Train 10] arr Birmingham Curzon Street\n",
      "07:40:00 HS2-L2B [Train 11] arr Birmingham Curzon Street\n"
     ]
    }
   ],
   "source": [
    "def line(name='HS2', direction='L2B',  start=6*3600, stop=7*3600, timing=300):\n",
    "    yield env.timeout(0)\n",
    "    data=dt[dt['Line']==name][dt['Direction']==direction]\n",
    "    print(data)\n",
    "    stations=data['From'].to_list()\n",
    "    print(stations)\n",
    "    print(type(stations))\n",
    "    stations+=[data['To'].to_list()[-1]]\n",
    "    print(stations)\n",
    "    yield env.timeout(start-env.now) # the line starts operating at 6am\n",
    "    print(env.now)\n",
    "    for i in range(int((stop-start)/timing)):\n",
    "        print(env.now)\n",
    "        t=Train(i, name, direction, stations, block_cap)\n",
    "        env.process(t.process())\n",
    "        yield env.timeout(timing)\n",
    "        \n",
    "def daytime(t):\n",
    "    t=int(t)\n",
    "    return f\"{t//3600:02d}:{(t%3600)//60:02d}:{t%60:02d}\"\n",
    "def now():\n",
    "    return daytime(env.now)\n",
    "\n",
    "env = simpy.Environment()\n",
    "block_cap = [simpy.Resource(env, capacity = 1) for i in range(blocks)] #assigning individual resource to each block\n",
    "\n",
    "env.process(line())\n",
    "env.run()"
   ]
  },
  {
   "cell_type": "code",
   "execution_count": 97,
   "metadata": {
    "ExecuteTime": {
     "end_time": "2020-04-02T12:24:31.440536Z",
     "start_time": "2020-04-02T12:24:31.436428Z"
    }
   },
   "outputs": [],
   "source": []
  },
  {
   "cell_type": "markdown",
   "metadata": {},
   "source": [
    "# System Verification"
   ]
  },
  {
   "cell_type": "markdown",
   "metadata": {},
   "source": [
    "The first step is always verification using selective traces."
   ]
  },
  {
   "cell_type": "code",
   "execution_count": 72,
   "metadata": {
    "ExecuteTime": {
     "end_time": "2020-04-02T12:24:36.464415Z",
     "start_time": "2020-04-02T12:24:36.461007Z"
    }
   },
   "outputs": [
    {
     "name": "stdout",
     "output_type": "stream",
     "text": [
      "06:00:01 HS2-Southbound [Train  0] dep London Euston for London Old Oak Common\n",
      "06:00:05 HS2-Southbound [Train  0] arr London Old Oak Common\n",
      "06:00:22 HS2-Southbound [Train  0] dep London Old Oak Common for Birmingham Interchange\n",
      "06:00:36 HS2-Southbound [Train  0] arr Birmingham Interchange\n",
      "06:00:40 HS2-Southbound [Train  0] dep Birmingham Interchange for Birmingham Curzon Street\n",
      "06:00:45 HS2-Southbound [Train  0] arr Birmingham Curzon Street\n",
      "06:05:01 HS2-Southbound [Train  1] dep London Euston for London Old Oak Common\n",
      "06:05:05 HS2-Southbound [Train  1] arr London Old Oak Common\n",
      "06:05:22 HS2-Southbound [Train  1] dep London Old Oak Common for Birmingham Interchange\n",
      "06:05:36 HS2-Southbound [Train  1] arr Birmingham Interchange\n",
      "06:05:40 HS2-Southbound [Train  1] dep Birmingham Interchange for Birmingham Curzon Street\n",
      "06:05:45 HS2-Southbound [Train  1] arr Birmingham Curzon Street\n",
      "06:10:01 HS2-Southbound [Train  2] dep London Euston for London Old Oak Common\n",
      "06:10:05 HS2-Southbound [Train  2] arr London Old Oak Common\n",
      "06:10:22 HS2-Southbound [Train  2] dep London Old Oak Common for Birmingham Interchange\n",
      "06:10:36 HS2-Southbound [Train  2] arr Birmingham Interchange\n",
      "06:10:40 HS2-Southbound [Train  2] dep Birmingham Interchange for Birmingham Curzon Street\n",
      "06:10:45 HS2-Southbound [Train  2] arr Birmingham Curzon Street\n",
      "06:15:01 HS2-Southbound [Train  3] dep London Euston for London Old Oak Common\n",
      "06:15:05 HS2-Southbound [Train  3] arr London Old Oak Common\n",
      "06:15:22 HS2-Southbound [Train  3] dep London Old Oak Common for Birmingham Interchange\n",
      "06:15:36 HS2-Southbound [Train  3] arr Birmingham Interchange\n",
      "06:15:40 HS2-Southbound [Train  3] dep Birmingham Interchange for Birmingham Curzon Street\n",
      "06:15:45 HS2-Southbound [Train  3] arr Birmingham Curzon Street\n",
      "06:20:01 HS2-Southbound [Train  4] dep London Euston for London Old Oak Common\n",
      "06:20:05 HS2-Southbound [Train  4] arr London Old Oak Common\n",
      "06:20:22 HS2-Southbound [Train  4] dep London Old Oak Common for Birmingham Interchange\n",
      "06:20:36 HS2-Southbound [Train  4] arr Birmingham Interchange\n",
      "06:20:40 HS2-Southbound [Train  4] dep Birmingham Interchange for Birmingham Curzon Street\n",
      "06:20:45 HS2-Southbound [Train  4] arr Birmingham Curzon Street\n",
      "06:25:01 HS2-Southbound [Train  5] dep London Euston for London Old Oak Common\n",
      "06:25:05 HS2-Southbound [Train  5] arr London Old Oak Common\n",
      "06:25:22 HS2-Southbound [Train  5] dep London Old Oak Common for Birmingham Interchange\n",
      "06:25:36 HS2-Southbound [Train  5] arr Birmingham Interchange\n",
      "06:25:40 HS2-Southbound [Train  5] dep Birmingham Interchange for Birmingham Curzon Street\n",
      "06:25:45 HS2-Southbound [Train  5] arr Birmingham Curzon Street\n",
      "06:30:01 HS2-Southbound [Train  6] dep London Euston for London Old Oak Common\n",
      "06:30:05 HS2-Southbound [Train  6] arr London Old Oak Common\n",
      "06:30:22 HS2-Southbound [Train  6] dep London Old Oak Common for Birmingham Interchange\n",
      "06:30:36 HS2-Southbound [Train  6] arr Birmingham Interchange\n",
      "06:30:40 HS2-Southbound [Train  6] dep Birmingham Interchange for Birmingham Curzon Street\n",
      "06:30:45 HS2-Southbound [Train  6] arr Birmingham Curzon Street\n",
      "06:35:01 HS2-Southbound [Train  7] dep London Euston for London Old Oak Common\n",
      "06:35:05 HS2-Southbound [Train  7] arr London Old Oak Common\n",
      "06:35:22 HS2-Southbound [Train  7] dep London Old Oak Common for Birmingham Interchange\n",
      "06:35:36 HS2-Southbound [Train  7] arr Birmingham Interchange\n",
      "06:35:40 HS2-Southbound [Train  7] dep Birmingham Interchange for Birmingham Curzon Street\n",
      "06:35:45 HS2-Southbound [Train  7] arr Birmingham Curzon Street\n",
      "06:40:01 HS2-Southbound [Train  8] dep London Euston for London Old Oak Common\n",
      "06:40:05 HS2-Southbound [Train  8] arr London Old Oak Common\n",
      "06:40:22 HS2-Southbound [Train  8] dep London Old Oak Common for Birmingham Interchange\n",
      "06:40:36 HS2-Southbound [Train  8] arr Birmingham Interchange\n",
      "06:40:40 HS2-Southbound [Train  8] dep Birmingham Interchange for Birmingham Curzon Street\n",
      "06:40:45 HS2-Southbound [Train  8] arr Birmingham Curzon Street\n",
      "06:45:01 HS2-Southbound [Train  9] dep London Euston for London Old Oak Common\n",
      "06:45:05 HS2-Southbound [Train  9] arr London Old Oak Common\n",
      "06:45:22 HS2-Southbound [Train  9] dep London Old Oak Common for Birmingham Interchange\n",
      "06:45:36 HS2-Southbound [Train  9] arr Birmingham Interchange\n",
      "06:45:40 HS2-Southbound [Train  9] dep Birmingham Interchange for Birmingham Curzon Street\n",
      "06:45:45 HS2-Southbound [Train  9] arr Birmingham Curzon Street\n",
      "06:50:01 HS2-Southbound [Train 10] dep London Euston for London Old Oak Common\n",
      "06:50:05 HS2-Southbound [Train 10] arr London Old Oak Common\n",
      "06:50:22 HS2-Southbound [Train 10] dep London Old Oak Common for Birmingham Interchange\n",
      "06:50:36 HS2-Southbound [Train 10] arr Birmingham Interchange\n",
      "06:50:40 HS2-Southbound [Train 10] dep Birmingham Interchange for Birmingham Curzon Street\n",
      "06:50:45 HS2-Southbound [Train 10] arr Birmingham Curzon Street\n",
      "06:55:01 HS2-Southbound [Train 11] dep London Euston for London Old Oak Common\n",
      "06:55:05 HS2-Southbound [Train 11] arr London Old Oak Common\n",
      "06:55:22 HS2-Southbound [Train 11] dep London Old Oak Common for Birmingham Interchange\n",
      "06:55:36 HS2-Southbound [Train 11] arr Birmingham Interchange\n",
      "06:55:40 HS2-Southbound [Train 11] dep Birmingham Interchange for Birmingham Curzon Street\n",
      "06:55:45 HS2-Southbound [Train 11] arr Birmingham Curzon Street\n"
     ]
    }
   ],
   "source": []
  },
  {
   "cell_type": "markdown",
   "metadata": {},
   "source": [
    "# Integrate Statistics"
   ]
  },
  {
   "cell_type": "markdown",
   "metadata": {},
   "source": [
    "# System Validation"
   ]
  },
  {
   "cell_type": "markdown",
   "metadata": {},
   "source": [
    "# Simulation Study"
   ]
  },
  {
   "cell_type": "markdown",
   "metadata": {},
   "source": [
    "# References"
   ]
  },
  {
   "cell_type": "markdown",
   "metadata": {},
   "source": [
    "[SimPy](https://simpy.readthedocs.io/en/latest/contents.html)"
   ]
  },
  {
   "cell_type": "code",
   "execution_count": null,
   "metadata": {},
   "outputs": [],
   "source": []
  }
 ],
 "metadata": {
  "kernelspec": {
   "display_name": "Python 3",
   "language": "python",
   "name": "python3"
  },
  "language_info": {
   "codemirror_mode": {
    "name": "ipython",
    "version": 3
   },
   "file_extension": ".py",
   "mimetype": "text/x-python",
   "name": "python",
   "nbconvert_exporter": "python",
   "pygments_lexer": "ipython3",
   "version": "3.7.3"
  },
  "latex_envs": {
   "LaTeX_envs_menu_present": true,
   "autoclose": false,
   "autocomplete": true,
   "bibliofile": "biblio.bib",
   "cite_by": "apalike",
   "current_citInitial": 1,
   "eqLabelWithNumbers": true,
   "eqNumInitial": 1,
   "hotkeys": {
    "equation": "Ctrl-E",
    "itemize": "Ctrl-I"
   },
   "labels_anchors": false,
   "latex_user_defs": false,
   "report_style_numbering": false,
   "user_envs_cfg": false
  },
  "toc": {
   "base_numbering": 1,
   "nav_menu": {},
   "number_sections": true,
   "sideBar": true,
   "skip_h1_title": false,
   "title_cell": "Table of Contents",
   "title_sidebar": "Contents",
   "toc_cell": true,
   "toc_position": {},
   "toc_section_display": true,
   "toc_window_display": false
  },
  "varInspector": {
   "cols": {
    "lenName": 16,
    "lenType": 16,
    "lenVar": 40
   },
   "kernels_config": {
    "python": {
     "delete_cmd_postfix": "",
     "delete_cmd_prefix": "del ",
     "library": "var_list.py",
     "varRefreshCmd": "print(var_dic_list())"
    },
    "r": {
     "delete_cmd_postfix": ") ",
     "delete_cmd_prefix": "rm(",
     "library": "var_list.r",
     "varRefreshCmd": "cat(var_dic_list()) "
    }
   },
   "types_to_exclude": [
    "module",
    "function",
    "builtin_function_or_method",
    "instance",
    "_Feature"
   ],
   "window_display": false
  }
 },
 "nbformat": 4,
 "nbformat_minor": 4
}
